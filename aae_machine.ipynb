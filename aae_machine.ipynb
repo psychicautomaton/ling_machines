{
 "cells": [
  {
   "cell_type": "markdown",
   "id": "c13e2aad",
   "metadata": {},
   "source": []
  },
  {
   "cell_type": "code",
   "execution_count": 1,
   "id": "e7f660cb",
   "metadata": {},
   "outputs": [],
   "source": [
    "import pandas as pd\n",
    "import numpy as np\n",
    "import nltk\n",
    "from tqdm import tqdm\n",
    "from nltk.parse.corenlp import CoreNLPServer\n",
    "from nltk.parse.corenlp import CoreNLPParser\n",
    "from nltk.corpus import brown\n",
    "from nltk.tree import *\n",
    "from nltk import CFG\n",
    "from nltk import word_tokenize\n",
    "import os\n",
    "import random\n",
    "from collections import defaultdict"
   ]
  },
  {
   "cell_type": "markdown",
   "id": "d93d935c",
   "metadata": {},
   "source": []
  },
  {
   "cell_type": "code",
   "execution_count": 76,
   "id": "359a04a1",
   "metadata": {},
   "outputs": [],
   "source": [
    "in_sents = ['he green with envy',\n",
    "            'he an expert',\n",
    "           'she liking me',\n",
    "           'your mama a weightlifter',\n",
    "           \"if i'm right, she a professor\",\n",
    "           'unfortunately, he crazy']"
   ]
  },
  {
   "cell_type": "code",
   "execution_count": 77,
   "id": "7df61790",
   "metadata": {},
   "outputs": [],
   "source": [
    "bad_sents = ['i green with envy',\n",
    "            'it in the garden',\n",
    "            'that my bag',\n",
    "            'it what it is']"
   ]
  },
  {
   "cell_type": "markdown",
   "id": "a820615c",
   "metadata": {},
   "source": []
  },
  {
   "cell_type": "code",
   "execution_count": 4,
   "id": "45905ce8",
   "metadata": {},
   "outputs": [],
   "source": [
    "root = 'stanford-corenlp-4.4.0'\n",
    "server = CoreNLPServer(\n",
    "   os.path.join(root, \"stanford-corenlp-4.4.0.jar\"),\n",
    "   os.path.join(root, \"stanford-corenlp-4.4.0-models.jar\"),\n",
    ")"
   ]
  },
  {
   "cell_type": "code",
   "execution_count": 5,
   "id": "2c7e129e",
   "metadata": {},
   "outputs": [
    {
     "name": "stderr",
     "output_type": "stream",
     "text": [
      "/usr/local/Cellar/mopidy/3.2.0/libexec/lib/python3.9/site-packages/requests/__init__.py:89: RequestsDependencyWarning: urllib3 (1.26.2) or chardet (3.0.4) doesn't match a supported version!\n",
      "  warnings.warn(\"urllib3 ({}) or chardet ({}) doesn't match a supported \"\n"
     ]
    }
   ],
   "source": [
    "server.start()"
   ]
  },
  {
   "cell_type": "markdown",
   "id": "ed6a95c8",
   "metadata": {},
   "source": []
  },
  {
   "cell_type": "code",
   "execution_count": 6,
   "id": "0cde7d55",
   "metadata": {},
   "outputs": [
    {
     "name": "stderr",
     "output_type": "stream",
     "text": [
      "1161192it [00:03, 355170.29it/s]\n"
     ]
    }
   ],
   "source": [
    "tagged = nltk.corpus.brown.tagged_words()\n",
    "fd = defaultdict(lambda: defaultdict(int))\n",
    "for tok in tqdm(tagged.iterate_from(0)):\n",
    "    fd[tok[0].lower()][tok[1]] += 1\n",
    "        "
   ]
  },
  {
   "cell_type": "markdown",
   "id": "1f417547",
   "metadata": {},
   "source": []
  },
  {
   "cell_type": "code",
   "execution_count": 7,
   "id": "808ff587",
   "metadata": {},
   "outputs": [],
   "source": [
    "for key in fd.keys():\n",
    "    total = 0\n",
    "    for pos in fd[key].keys():\n",
    "        total += fd[key][pos]\n",
    "    for pos in fd[key].keys():\n",
    "        fd[key][pos] = fd[key][pos] / total"
   ]
  },
  {
   "cell_type": "markdown",
   "id": "9b147f3a",
   "metadata": {},
   "source": []
  },
  {
   "cell_type": "code",
   "execution_count": null,
   "id": "fc6d1867",
   "metadata": {},
   "outputs": [],
   "source": [
    "no_nc_subjs = ['i', 'that', 'it', 'what']\n",
    "pos_subjs = ['NN', 'NP','NN-TL','NNS', 'NNS-TL','NNP', 'NNPS', 'PRP', 'PSS', 'PPS','PPSS', 'WP']\n",
    "negs = [\"ain't\", \"didn't\", \"don't\", \"not\", \"doesn't\"]\n",
    "pos_negs = [\"HVD*\", 'BEZ*', 'DOD*', 'BER*', 'BER*', 'BEM*', 'HV*', \"HVZ*\", \"*\"]"
   ]
  },
  {
   "cell_type": "markdown",
   "id": "8bb1784a",
   "metadata": {},
   "source": []
  },
  {
   "cell_type": "code",
   "execution_count": 8,
   "id": "c28ad48a",
   "metadata": {},
   "outputs": [],
   "source": [
    "def pos(word):\n",
    "    entries = fd[word]\n",
    "    n = []\n",
    "    p = []\n",
    "    it = []\n",
    "    for i,item in enumerate(entries):\n",
    "        n.append(item)\n",
    "        p.append(fd[word][item])\n",
    "    if len(n) == 0:\n",
    "        ans = n\n",
    "    else: \n",
    "        ans = n[np.argsort(p)[-1]]\n",
    "    return ans\n"
   ]
  },
  {
   "cell_type": "code",
   "execution_count": 9,
   "id": "20009899",
   "metadata": {},
   "outputs": [],
   "source": [
    "def make_sent(s):\n",
    "    s_tok = s.split(' ')\n",
    "    sent = []\n",
    "    for i,tok in enumerate(s_tok):\n",
    "        sent.append((tok, pos(tok)))\n",
    "    return sent"
   ]
  },
  {
   "cell_type": "code",
   "execution_count": 10,
   "id": "624a8068",
   "metadata": {},
   "outputs": [],
   "source": [
    "def pos_words_lists(sent):\n",
    "    return [item[1] for item in sent], [item[0] for item in sent]"
   ]
  },
  {
   "cell_type": "code",
   "execution_count": 11,
   "id": "9393e84c",
   "metadata": {},
   "outputs": [],
   "source": [
    "def pos_adjacent(sent, pos1, pos2):\n",
    "    pos_sent, words = pos_words_lists(sent)\n",
    "    ind1 = int(pos_sent.index(pos1))\n",
    "    ind2 = int(pos_sent.index(pos2))\n",
    "    \n",
    "    if  ind1 == ind2-1:\n",
    "        #pos1 before pos2\n",
    "        return 1\n",
    "    elif ind1-1 == ind2:\n",
    "        #pos1 after pos2\n",
    "        return 2\n",
    "    \n",
    "    else:\n",
    "        #nonadjacent\n",
    "        return 0"
   ]
  },
  {
   "cell_type": "markdown",
   "id": "ac956b16",
   "metadata": {},
   "source": []
  },
  {
   "cell_type": "code",
   "execution_count": 59,
   "id": "85a817fd",
   "metadata": {},
   "outputs": [],
   "source": [
    "def nc_pp(s):\n",
    "    sent = make_sent(s.lower())\n",
    "    pos_sent, words = pos_words_lists(sent)\n",
    "    print(words)\n",
    "    yes = 0\n",
    "    present = 0\n",
    "    validity = 'T'\n",
    "    \n",
    "    for subj in pos_subjs:\n",
    "        pos1 = subj\n",
    "        pos2 = 'IN'\n",
    "        if pos2 not in pos_sent:\n",
    "            print('pp: valid')\n",
    "            validity = 'T'\n",
    "            return validity\n",
    "        if pos1 in pos_sent:\n",
    "            \n",
    "            if pos_adjacent(sent,pos1,pos2) == 1:\n",
    "                rel = words[pos_sent.index(pos1)]\n",
    "                present += 1\n",
    "                if rel in no_nc_subjs:\n",
    "                    print('pp: Invalid')\n",
    "                    validity = 'F'\n",
    "                else:\n",
    "                    yes += 1\n",
    "                    \n",
    "            else:\n",
    "                for neg in pos_negs:\n",
    "                    if neg in pos_sent:\n",
    "                        pos3 = neg\n",
    "                        if pos_adjacent(sent,pos1,pos3) == 1 & pos_adjacent(sent,pos3,pos2) == 1:\n",
    "                            rel = words[pos_sent.index(pos1)]\n",
    "                            present += 1\n",
    "                            if rel in no_nc_subjs:\n",
    "                                print('pp: Invalid')\n",
    "                                validity = 'F'\n",
    "                            else:\n",
    "                                yes += 1\n",
    "        else:\n",
    "            continue\n",
    "    if yes != 0:\n",
    "        print('pp: Valid')\n",
    "        validity = 'T'\n",
    "    if present == 0:\n",
    "        print('pp: N/A')\n",
    "        validity = 'T'\n",
    "    return validity\n"
   ]
  },
  {
   "cell_type": "markdown",
   "id": "e41debfc",
   "metadata": {},
   "source": []
  },
  {
   "cell_type": "code",
   "execution_count": 60,
   "id": "f864d244",
   "metadata": {},
   "outputs": [],
   "source": [
    "def nc_adj(s):\n",
    "    sent = make_sent(s.lower())\n",
    "    pos_sent, words = pos_words_lists(sent)\n",
    "    yes = 0\n",
    "    present = 0\n",
    "    validity = 'T'\n",
    "    \n",
    "    for subj in pos_subjs:\n",
    "        pos1 = subj\n",
    "        pos2 = 'JJ'\n",
    "        if pos2 not in pos_sent:\n",
    "            validity = 'T'\n",
    "            print('adj: valid')\n",
    "            return validity\n",
    "        if pos1 in pos_sent:\n",
    "            \n",
    "            if pos_adjacent(sent,pos1,pos2) == 1:\n",
    "                rel = words[pos_sent.index(pos1)]\n",
    "                present += 1\n",
    "                if rel in no_nc_subjs:\n",
    "                    print('adj: Invalid')\n",
    "                    validity = 'F'\n",
    "                else:\n",
    "                    yes += 1\n",
    "                    \n",
    "            else:\n",
    "                for neg in pos_negs:\n",
    "                    if neg in pos_sent:\n",
    "                        pos3 = neg\n",
    "                        if pos_adjacent(sent,pos1,pos3) == 1 & pos_adjacent(sent,pos3,pos2) == 1:\n",
    "                            rel = words[pos_sent.index(pos1)]\n",
    "                            present += 1\n",
    "                            if rel in no_nc_subjs:\n",
    "                                print(pos_sent)\n",
    "                                print('adj: Invalid')\n",
    "                                validity = 'F'\n",
    "                            else:\n",
    "                                yes += 1\n",
    "        else:\n",
    "            continue\n",
    "    if yes != 0:\n",
    "        print(words)\n",
    "        print('adj: Valid')\n",
    "        validity = 'T'\n",
    "    if present == 0:\n",
    "        print('adj: N/A')\n",
    "        validity = 'T'\n",
    "    return validity\n",
    "\n",
    "    \n",
    "\n",
    "                    \n",
    "        "
   ]
  },
  {
   "cell_type": "markdown",
   "id": "2a9dfbb9",
   "metadata": {},
   "source": []
  },
  {
   "cell_type": "code",
   "execution_count": 61,
   "id": "b9bf1653",
   "metadata": {},
   "outputs": [],
   "source": [
    "def nc_np(s):\n",
    "    sent = make_sent(s.lower())\n",
    "    pos_sent, words = pos_words_lists(sent)\n",
    "    yes = 0\n",
    "    present = 0\n",
    "    validity = 'T'\n",
    "    parser = CoreNLPParser()\n",
    "    \n",
    "    parse = next(parser.raw_parse(' '.join(words)))\n",
    "    pt = ParentedTree.fromstring(str(parse))\n",
    "    np_count = 0\n",
    "    for subtree in pt.subtrees():\n",
    "        if subtree.label() == 'NP':\n",
    "            np_count += 1\n",
    "    if np_count < 2:\n",
    "        validity = 'T'\n",
    "        print('np: valid')\n",
    "        return validity\n",
    "    \n",
    "    \n",
    "    for subj in pos_subjs:\n",
    "        pos1 = subj\n",
    "        pos2 = 'NP'\n",
    "    \n",
    "        if pos1 in pos_sent:\n",
    "            if 'IN' in pos_sent:\n",
    "                if pos_adjacent(sent,pos1,'IN') == 1:\n",
    "                    validity = 'T'\n",
    "                    print('np: valid')\n",
    "                    return validity\n",
    "            if 'JJ' in pos_sent:\n",
    "                if pos_adjacent(sent,pos1,'JJ') == 1:\n",
    "                    validity = 'T'\n",
    "                    print('np: valid')\n",
    "                    return validity\n",
    "            idx = pos_sent.index(pos1)\n",
    "            rest = words[idx+1:]\n",
    "            s = ' '.join(rest)\n",
    "            if rest:\n",
    "                \n",
    "                parse = next(parser.raw_parse(s))\n",
    "                pt = ParentedTree.fromstring(str(parse))\n",
    "                pt_lab = pt[0].label()\n",
    "                if pt_lab == pos2:\n",
    "                    rel = words[pos_sent.index(pos1)]\n",
    "                    present += 1\n",
    "                    if rel in no_nc_subjs:\n",
    "                        print('np: Invalid')\n",
    "                        validity = 'F'\n",
    "                    else:\n",
    "                        yes += 1\n",
    "                if pos_sent[pos_sent.index(pos1) + 1] in pos_negs:\n",
    "                    neg_idx = pos_sent.index(pos1) + 1\n",
    "                    rest = words[neg_idx+1:]\n",
    "                    s = ' '.join(rest)\n",
    "                    if rest:\n",
    "                        parser = CoreNLPParser()\n",
    "                        parse = next(parser.raw_parse(s))\n",
    "                        pt = ParentedTree.fromstring(str(parse))\n",
    "                        pt_lab = pt[0].label()\n",
    "                        if pt_lab == pos2:\n",
    "                            rel = words[pos_sent.index(pos1)]\n",
    "                            present += 1\n",
    "                            if rel in no_nc_subjs:\n",
    "                                print('np:Invalid')\n",
    "                                validity = 'F'\n",
    "                            else:\n",
    "                                yes += 1\n",
    "                    \n",
    "        else:\n",
    "            continue\n",
    "    if yes != 0:\n",
    "        print('np: Valid')\n",
    "        validity = 'T'\n",
    "    if present == 0:\n",
    "        print('np: N/A')\n",
    "        validity = 'T'\n",
    "    return validity\n",
    "        \n",
    "        "
   ]
  },
  {
   "cell_type": "markdown",
   "id": "29a3b14c",
   "metadata": {},
   "source": []
  },
  {
   "cell_type": "code",
   "execution_count": 67,
   "id": "aa4e6c9b",
   "metadata": {},
   "outputs": [],
   "source": [
    "def nc(s):\n",
    "    pp = nc_pp(s)\n",
    "    adj = nc_adj(s)\n",
    "    np = nc_np(s)\n",
    "    val = pp+adj+np\n",
    "    if val == 'TTT':\n",
    "        return True\n",
    "    else:\n",
    "        return False \n"
   ]
  },
  {
   "cell_type": "markdown",
   "id": "6a8a86f3",
   "metadata": {},
   "source": []
  },
  {
   "cell_type": "code",
   "execution_count": 82,
   "id": "fa27c1ec",
   "metadata": {},
   "outputs": [
    {
     "name": "stdout",
     "output_type": "stream",
     "text": [
      "['he', 'green', 'with', 'envy']\n",
      "pp: N/A\n",
      "['he', 'green', 'with', 'envy']\n",
      "adj: Valid\n",
      "np: valid\n",
      "\n",
      " he green with envy \n",
      " True \n",
      "\n",
      "['he', 'an', 'expert']\n",
      "pp: valid\n",
      "adj: valid\n",
      "np: Valid\n",
      "\n",
      " he an expert \n",
      " True \n",
      "\n",
      "['she', 'liking', 'me']\n",
      "pp: valid\n",
      "adj: valid\n",
      "np: N/A\n",
      "\n",
      " she liking me \n",
      " True \n",
      "\n",
      "['your', 'mama', 'a', 'weightlifter']\n",
      "pp: valid\n",
      "adj: valid\n",
      "np: Valid\n",
      "\n",
      " your mama a weightlifter \n",
      " True \n",
      "\n",
      "['if', \"i'm\", 'right,', 'she', 'a', 'professor']\n",
      "pp: valid\n",
      "adj: valid\n",
      "np: Valid\n",
      "\n",
      " if i'm right, she a professor \n",
      " True \n",
      "\n"
     ]
    }
   ],
   "source": [
    "for sent in in_sents:\n",
    "    print('\\n',sent, '\\n',nc(sent), '\\n')"
   ]
  },
  {
   "cell_type": "markdown",
   "id": "cac05b10",
   "metadata": {},
   "source": []
  },
  {
   "cell_type": "code",
   "execution_count": 83,
   "id": "90eb1b2c",
   "metadata": {},
   "outputs": [
    {
     "name": "stdout",
     "output_type": "stream",
     "text": [
      "['i', 'green', 'with', 'envy']\n",
      "pp: N/A\n",
      "adj: Invalid\n",
      "np: valid\n",
      "\n",
      " i green with envy \n",
      " False \n",
      "\n",
      "['it', 'in', 'the', 'garden']\n",
      "pp: Invalid\n",
      "adj: valid\n",
      "np: valid\n",
      "\n",
      " it in the garden \n",
      " False \n",
      "\n"
     ]
    }
   ],
   "source": [
    "for sent in bad_sents:\n",
    "    print('\\n',sent, '\\n',nc(sent), '\\n')"
   ]
  },
  {
   "cell_type": "markdown",
   "id": "43ce7ea4",
   "metadata": {},
   "source": []
  },
  {
   "cell_type": "code",
   "execution_count": null,
   "id": "ae7842c8",
   "metadata": {},
   "outputs": [],
   "source": [
    "server.stop()"
   ]
  },
  {
   "cell_type": "markdown",
   "id": "8cec6879",
   "metadata": {},
   "source": []
  }
 ],
 "metadata": {
  "kernelspec": {
   "display_name": "Python 3",
   "language": "python",
   "name": "python3"
  },
  "language_info": {
   "codemirror_mode": {
    "name": "ipython",
    "version": 3
   },
   "file_extension": ".py",
   "mimetype": "text/x-python",
   "name": "python",
   "nbconvert_exporter": "python",
   "pygments_lexer": "ipython3",
   "version": "3.9.12"
  }
 },
 "nbformat": 4,
 "nbformat_minor": 5
}
